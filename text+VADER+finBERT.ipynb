{
 "cells": [
  {
   "cell_type": "code",
   "execution_count": null,
   "metadata": {
    "colab": {
     "base_uri": "https://localhost:8080/"
    },
    "executionInfo": {
     "elapsed": 2961,
     "status": "ok",
     "timestamp": 1616005766138,
     "user": {
      "displayName": "Alexander Kyle Fuster",
      "photoUrl": "",
      "userId": "14889042496219161797"
     },
     "user_tz": 240
    },
    "id": "hlg7etQDvFHz",
    "outputId": "3493460c-abf6-4393-c61b-e87606380c33"
   },
   "outputs": [],
   "source": [
    "!pip install vaderSentiment"
   ]
  },
  {
   "cell_type": "code",
   "execution_count": null,
   "metadata": {
    "colab": {
     "base_uri": "https://localhost:8080/"
    },
    "executionInfo": {
     "elapsed": 3044,
     "status": "ok",
     "timestamp": 1616005770491,
     "user": {
      "displayName": "Alexander Kyle Fuster",
      "photoUrl": "",
      "userId": "14889042496219161797"
     },
     "user_tz": 240
    },
    "id": "iuSZLtu77Skx",
    "outputId": "67f159ca-5525-4671-a9e1-e46ab5e309f0"
   },
   "outputs": [],
   "source": [
    "!pip install transformers"
   ]
  },
  {
   "cell_type": "markdown",
   "metadata": {
    "id": "3of9ICOemRYR"
   },
   "source": [
    "Format: {date:[{company:{feature:value}}]}"
   ]
  },
  {
   "cell_type": "code",
   "execution_count": null,
   "metadata": {
    "executionInfo": {
     "elapsed": 554,
     "status": "ok",
     "timestamp": 1616005773994,
     "user": {
      "displayName": "Alexander Kyle Fuster",
      "photoUrl": "",
      "userId": "14889042496219161797"
     },
     "user_tz": 240
    },
    "id": "trFfmuYEyEvJ"
   },
   "outputs": [],
   "source": [
    "folder_list = open('/content/drive/MyDrive/get_financials/list_of_folders.txt').read().splitlines()"
   ]
  },
  {
   "cell_type": "code",
   "execution_count": null,
   "metadata": {
    "executionInfo": {
     "elapsed": 253,
     "status": "ok",
     "timestamp": 1616005776286,
     "user": {
      "displayName": "Alexander Kyle Fuster",
      "photoUrl": "",
      "userId": "14889042496219161797"
     },
     "user_tz": 240
    },
    "id": "jf7JoSAGzZkz"
   },
   "outputs": [],
   "source": [
    "for idx, val in enumerate(folder_list):\n",
    "  folder_list[idx] = val.strip('\"\"').strip(\"''\").strip(' ')"
   ]
  },
  {
   "cell_type": "code",
   "execution_count": null,
   "metadata": {
    "executionInfo": {
     "elapsed": 8583,
     "status": "ok",
     "timestamp": 1616005786027,
     "user": {
      "displayName": "Alexander Kyle Fuster",
      "photoUrl": "",
      "userId": "14889042496219161797"
     },
     "user_tz": 240
    },
    "id": "oob2b4WgtkIx"
   },
   "outputs": [],
   "source": [
    "import pandas as pd\n",
    "import tqdm.notebook as tq\n",
    "\n",
    "# VADER\n",
    "from vaderSentiment.vaderSentiment import SentimentIntensityAnalyzer\n",
    "analyser = SentimentIntensityAnalyzer()\n",
    "\n",
    "# finBERT\n",
    "import torch\n",
    "from transformers import BertTokenizer, BertForSequenceClassification\n",
    "tokenizer = BertTokenizer.from_pretrained('bert-base-uncased')\n",
    "model = BertForSequenceClassification.from_pretrained('/content/drive/MyDrive/get_financials/pytorch_model.bin',config='/content/drive/MyDrive/get_financials/config.json',num_labels=3)"
   ]
  },
  {
   "cell_type": "code",
   "execution_count": null,
   "metadata": {
    "colab": {
     "base_uri": "https://localhost:8080/",
     "height": 383,
     "referenced_widgets": [
      "ee560b69232e4f0ebab824ef0836a5e8",
      "145811d3eea549dbb5d95bf138869ae1",
      "421d23cea17c4e12a95aa8e2faafaa90",
      "6462503ae0b64636a49403e2309256f1",
      "bb888f92366b481a8d5627e33fabb484",
      "8b6282fda42942cab9cf465437aa5a4e",
      "045e74e7b1264032866c8aead22eb2fe",
      "fc2b2d0e97854089a96aa20bfe8ffa50"
     ]
    },
    "executionInfo": {
     "elapsed": 28611,
     "status": "error",
     "timestamp": 1616005821198,
     "user": {
      "displayName": "Alexander Kyle Fuster",
      "photoUrl": "",
      "userId": "14889042496219161797"
     },
     "user_tz": 240
    },
    "id": "lBnt3KW7QCoz",
    "outputId": "a8f0aa71-20b8-4850-cb9d-2eca67e2f079"
   },
   "outputs": [],
   "source": [
    "path_start = '/content/drive/MyDrive/get_financials/ReleasedDataset_mp3/'\n",
    "path_end = '/Text.txt'\n",
    "feature_df = dict()\n",
    "for path_middle in tq.tqdm(folder_list):\n",
    "  # get date, company, path\n",
    "  date = path_middle[path_middle.index('_')+1:]\n",
    "  company = path_middle[:path_middle.index('_')]\n",
    "  path = path_start + path_middle + path_end\n",
    "\n",
    "  # get document\n",
    "  file = open(path,\"r+\")\n",
    "  sent_list = file.readlines()\n",
    "  document = \"\".join(sent_list).replace('\\n', ' ')\n",
    "  file.close()\n",
    "  \n",
    "  # extract features from VADER\n",
    "  v_scores = analyser.polarity_scores(document)\n",
    "\n",
    "  # extract features from finBERT\n",
    "  inputs = tokenizer(document, return_tensors=\"pt\", max_length=512, truncation=True)\n",
    "  outputs = model(**inputs)\n",
    "  f_scores = [float(outputs[0][0][0]), float(outputs[0][0][1]), float(outputs[0][0][2])]\n",
    "\n",
    "  company_to_feature = dict()\n",
    "  feature_to_value = dict()\n",
    "  feature_to_value['VADER_neg'] = v_scores['neg']\n",
    "  feature_to_value['VADER_neu'] = v_scores['neu']\n",
    "  feature_to_value['VADER_pos'] = v_scores['pos']\n",
    "  feature_to_value['VADER_compound'] = v_scores['compound']\n",
    "  feature_to_value['finBERT_pos'] = f_scores[0]\n",
    "  feature_to_value['finBERT_neg'] = f_scores[1]\n",
    "  feature_to_value['finBERT_neu'] = f_scores[2]\n",
    "  company_to_feature[company] = feature_to_value\n",
    "\n",
    "  if date in feature_df.keys():\n",
    "    feature_df[date].append(company_to_feature)\n",
    "  else:\n",
    "    feature_df[date] = [company_to_feature]"
   ]
  },
  {
   "cell_type": "markdown",
   "metadata": {
    "id": "4isQNRQpbb5X"
   },
   "source": [
    "No max sequence length"
   ]
  },
  {
   "cell_type": "code",
   "execution_count": null,
   "metadata": {
    "colab": {
     "base_uri": "https://localhost:8080/",
     "height": 49,
     "referenced_widgets": [
      "9bf652a1887b4701a3858950b81d264f",
      "ce79748aae604878b077cd88cefaaf46",
      "5c1df7a266da45df957a1361058e56b7",
      "7524d7cc4f19476faac324db3d6cbe2e",
      "4e186c124198419d9b9bcd6598c2d336",
      "3b8428dc2b6b4d179f401cf9a33b02cd",
      "a15f62a259c94f1199d19ca9ece00e9c",
      "bf5cb1221d9244b2b834c92cff9ec0bc"
     ]
    },
    "id": "W4ex9JKqcyoa",
    "outputId": "f48fc5f5-80ee-44a6-a493-d6c114ed8250"
   },
   "outputs": [],
   "source": [
    "path_start = '/content/drive/MyDrive/get_financials/ReleasedDataset_mp3/'\n",
    "path_end = '/Text.txt'\n",
    "text_paths = dict()\n",
    "for path_middle in tq.tqdm(folder_list):\n",
    "  # get date, company, path\n",
    "  date = path_middle[path_middle.index('_')+1:]\n",
    "  company = path_middle[:path_middle.index('_')]\n",
    "  path = path_start + path_middle + path_end\n",
    "\n",
    "  # get document\n",
    "  file = open(path,\"r+\")\n",
    "  sent_list = file.readlines()\n",
    "  document = \"\".join(sent_list).replace('\\n', ' ')\n",
    "  file.close()\n",
    "  \n",
    "  # extract features from VADER\n",
    "  v_scores = analyser.polarity_scores(document)\n",
    "\n",
    "  # extract features from finBERT\n",
    "  n = 512 # chunk length\n",
    "  chunks = [call[i:i+n] for i in range(0, len(call), 512)]\n",
    "  chunks\n",
    "  res = []\n",
    "  for chunk in chunks:\n",
    "    inputs = tokenizer(chunk, return_tensors=\"pt\")\n",
    "    outputs = model(**inputs)\n",
    "    res.append(np.array([float(outputs[0][0][0]), float(outputs[0][0][1]), float(outputs[0][0][2])]))\n",
    "  f_scores = np.mean(np.array(res), axis = 0)\n",
    "\n",
    "  company_to_feature = dict()\n",
    "  feature_to_value = dict()\n",
    "  feature_to_value['VADER_neg'] = v_scores['neg']\n",
    "  feature_to_value['VADER_neu'] = v_scores['neu']\n",
    "  feature_to_value['VADER_pos'] = v_scores['pos']\n",
    "  feature_to_value['VADER_compound'] = v_scores['compound']\n",
    "  feature_to_value['finBERT_pos'] = f_scores[0]\n",
    "  feature_to_value['finBERT_neg'] = f_scores[1]\n",
    "  feature_to_value['finBERT_neu'] = f_scores[2]\n",
    "  company_to_feature[company] = feature_to_value\n",
    "\n",
    "  if date in text_paths.keys():\n",
    "    text_paths[date].append(company_to_feature)\n",
    "  else:\n",
    "    text_paths[date] = [company_to_feature]\n",
    "text_paths"
   ]
  },
  {
   "cell_type": "markdown",
   "metadata": {
    "id": "axMTyfehcNaf"
   },
   "source": [
    "Write"
   ]
  },
  {
   "cell_type": "code",
   "execution_count": null,
   "metadata": {
    "id": "lbD-XcLJEUHZ"
   },
   "outputs": [],
   "source": [
    "import json\n",
    "with open('/content/drive/MyDrive/get_financials/vader_finbert_features.txt', 'w') as file:\n",
    "    json.dump(text_paths, file)"
   ]
  },
  {
   "cell_type": "markdown",
   "metadata": {
    "id": "vKBSuhDUcO0R"
   },
   "source": [
    "Read"
   ]
  },
  {
   "cell_type": "code",
   "execution_count": null,
   "metadata": {
    "id": "DiX4vT_PP-Zh"
   },
   "outputs": [],
   "source": [
    "with open('/content/drive/MyDrive/get_financials/vader_finbert_features.txt', 'r') as file:\n",
    "    new_d = json.load(file)"
   ]
  },
  {
   "cell_type": "code",
   "execution_count": null,
   "metadata": {
    "colab": {
     "base_uri": "https://localhost:8080/"
    },
    "executionInfo": {
     "elapsed": 232,
     "status": "ok",
     "timestamp": 1616006110023,
     "user": {
      "displayName": "Alexander Kyle Fuster",
      "photoUrl": "",
      "userId": "14889042496219161797"
     },
     "user_tz": 240
    },
    "id": "efCAGWBLcC71",
    "outputId": "4592f67a-174e-48d6-a00b-47d0eae12030"
   },
   "outputs": [],
   "source": [
    "analyser.polarity_scores(\"\"\"Showcasing its continued global appeal, Overwatch has players all over the world, including great success in Korea and China\"\"\")"
   ]
  },
  {
   "cell_type": "code",
   "execution_count": null,
   "metadata": {
    "colab": {
     "base_uri": "https://localhost:8080/"
    },
    "executionInfo": {
     "elapsed": 398,
     "status": "ok",
     "timestamp": 1616006165441,
     "user": {
      "displayName": "Alexander Kyle Fuster",
      "photoUrl": "",
      "userId": "14889042496219161797"
     },
     "user_tz": 240
    },
    "id": "98CPxaTyeJZF",
    "outputId": "69290c70-a87b-4ff7-ce0f-9db9479fe916"
   },
   "outputs": [],
   "source": [
    "inputs = tokenizer(\"\"\"Showcasing its continued global appeal, Overwatch has players all over the world, including great success in Korea and China\"\"\", return_tensors=\"pt\", max_length=512, truncation=True)\n",
    "outputs = model(**inputs)\n",
    "f_scores = [float(outputs[0][0][0]), float(outputs[0][0][1]), float(outputs[0][0][2])]\n",
    "pos,neg,neu = f_scores\n",
    "pos,neg,neu"
   ]
  },
  {
   "cell_type": "code",
   "execution_count": null,
   "metadata": {
    "id": "s8GUiXfCcIBq"
   },
   "outputs": [],
   "source": [
    "\"\"\"In-game purchases were yet again close to $1 billion in the quarter, and a record $3.8 billion for the year, more than double last year's $1.7 billion\"\"\""
   ]
  },
  {
   "cell_type": "code",
   "execution_count": null,
   "metadata": {
    "colab": {
     "base_uri": "https://localhost:8080/"
    },
    "executionInfo": {
     "elapsed": 239,
     "status": "ok",
     "timestamp": 1616005719068,
     "user": {
      "displayName": "Alexander Kyle Fuster",
      "photoUrl": "",
      "userId": "14889042496219161797"
     },
     "user_tz": 240
    },
    "id": "rwQrHSWgcisR",
    "outputId": "fcb5972f-c881-418a-fe24-3e4cdf501731"
   },
   "outputs": [],
   "source": [
    "analyser.polarity_scores(\"\"\"In-game purchases were yet again close to $1 billion in the quarter, and a record $3.8 billion for the year, more than double last year's $1.7 billion\"\"\")"
   ]
  },
  {
   "cell_type": "code",
   "execution_count": null,
   "metadata": {
    "executionInfo": {
     "elapsed": 843,
     "status": "ok",
     "timestamp": 1616005959838,
     "user": {
      "displayName": "Alexander Kyle Fuster",
      "photoUrl": "",
      "userId": "14889042496219161797"
     },
     "user_tz": 240
    },
    "id": "Aly7NRJJcjOG"
   },
   "outputs": [],
   "source": [
    "inputs = tokenizer(\"\"\"In-game purchases were yet again close to $1 billion in the quarter, and a record $3.8 billion for the year, more than double last year's $1.7 billion\"\"\", return_tensors=\"pt\", max_length=512, truncation=True)\n",
    "outputs = model(**inputs)\n",
    "f_scores = [float(outputs[0][0][0]), float(outputs[0][0][1]), float(outputs[0][0][2])]\n",
    "pos,neg,neu = f_scores\n",
    "pos,neg,neu"
   ]
  },
  {
   "cell_type": "code",
   "execution_count": null,
   "metadata": {
    "colab": {
     "base_uri": "https://localhost:8080/"
    },
    "executionInfo": {
     "elapsed": 248,
     "status": "ok",
     "timestamp": 1616005997163,
     "user": {
      "displayName": "Alexander Kyle Fuster",
      "photoUrl": "",
      "userId": "14889042496219161797"
     },
     "user_tz": 240
    },
    "id": "FJbvyy6Jdg0h",
    "outputId": "6369d4b2-1bfb-4085-feca-a514ca8a2eee"
   },
   "outputs": [],
   "source": [
    "pos,neg,neu"
   ]
  },
  {
   "cell_type": "code",
   "execution_count": null,
   "metadata": {
    "executionInfo": {
     "elapsed": 249,
     "status": "ok",
     "timestamp": 1616007145414,
     "user": {
      "displayName": "Alexander Kyle Fuster",
      "photoUrl": "",
      "userId": "14889042496219161797"
     },
     "user_tz": 240
    },
    "id": "ue6I1J0VdmNO"
   },
   "outputs": [],
   "source": [
    "test = \"\"\"Shares of food delivery companies surged despite the catastrophic impact of coronavirus on global markets.\"\"\""
   ]
  },
  {
   "cell_type": "code",
   "execution_count": null,
   "metadata": {
    "colab": {
     "base_uri": "https://localhost:8080/"
    },
    "executionInfo": {
     "elapsed": 426,
     "status": "ok",
     "timestamp": 1616007146912,
     "user": {
      "displayName": "Alexander Kyle Fuster",
      "photoUrl": "",
      "userId": "14889042496219161797"
     },
     "user_tz": 240
    },
    "id": "7Y6p5PvEe20A",
    "outputId": "497f5f6d-6b06-4924-cc41-a7b5e8805cf2"
   },
   "outputs": [],
   "source": [
    "analyser.polarity_scores(test)"
   ]
  },
  {
   "cell_type": "code",
   "execution_count": null,
   "metadata": {
    "colab": {
     "base_uri": "https://localhost:8080/"
    },
    "executionInfo": {
     "elapsed": 401,
     "status": "ok",
     "timestamp": 1616007150306,
     "user": {
      "displayName": "Alexander Kyle Fuster",
      "photoUrl": "",
      "userId": "14889042496219161797"
     },
     "user_tz": 240
    },
    "id": "vJKus7Pue6jm",
    "outputId": "62f8ab17-6fc4-41f9-b634-786f676873b0"
   },
   "outputs": [],
   "source": [
    "inputs = tokenizer(test, return_tensors=\"pt\", max_length=512, truncation=True)\n",
    "outputs = model(**inputs)\n",
    "f_scores = [float(outputs[0][0][0]), float(outputs[0][0][1]), float(outputs[0][0][2])]\n",
    "pos,neg,neu = f_scores\n",
    "pos,neg,neu"
   ]
  },
  {
   "cell_type": "code",
   "execution_count": null,
   "metadata": {
    "id": "OFKRa1Zne95X"
   },
   "outputs": [],
   "source": []
  }
 ],
 "metadata": {
  "colab": {
   "authorship_tag": "ABX9TyNqbEhRju1FOFeuJZcHf4T1",
   "collapsed_sections": [],
   "name": "text+VADER+finBERT.ipynb",
   "provenance": []
  },
  "kernelspec": {
   "display_name": "Python 3",
   "language": "python",
   "name": "python3"
  },
  "language_info": {
   "codemirror_mode": {
    "name": "ipython",
    "version": 3
   },
   "file_extension": ".py",
   "mimetype": "text/x-python",
   "name": "python",
   "nbconvert_exporter": "python",
   "pygments_lexer": "ipython3",
   "version": "3.7.6"
  },
  "widgets": {
   "application/vnd.jupyter.widget-state+json": {
    "045e74e7b1264032866c8aead22eb2fe": {
     "model_module": "@jupyter-widgets/controls",
     "model_name": "DescriptionStyleModel",
     "state": {
      "_model_module": "@jupyter-widgets/controls",
      "_model_module_version": "1.5.0",
      "_model_name": "DescriptionStyleModel",
      "_view_count": null,
      "_view_module": "@jupyter-widgets/base",
      "_view_module_version": "1.2.0",
      "_view_name": "StyleView",
      "description_width": ""
     }
    },
    "145811d3eea549dbb5d95bf138869ae1": {
     "model_module": "@jupyter-widgets/base",
     "model_name": "LayoutModel",
     "state": {
      "_model_module": "@jupyter-widgets/base",
      "_model_module_version": "1.2.0",
      "_model_name": "LayoutModel",
      "_view_count": null,
      "_view_module": "@jupyter-widgets/base",
      "_view_module_version": "1.2.0",
      "_view_name": "LayoutView",
      "align_content": null,
      "align_items": null,
      "align_self": null,
      "border": null,
      "bottom": null,
      "display": null,
      "flex": null,
      "flex_flow": null,
      "grid_area": null,
      "grid_auto_columns": null,
      "grid_auto_flow": null,
      "grid_auto_rows": null,
      "grid_column": null,
      "grid_gap": null,
      "grid_row": null,
      "grid_template_areas": null,
      "grid_template_columns": null,
      "grid_template_rows": null,
      "height": null,
      "justify_content": null,
      "justify_items": null,
      "left": null,
      "margin": null,
      "max_height": null,
      "max_width": null,
      "min_height": null,
      "min_width": null,
      "object_fit": null,
      "object_position": null,
      "order": null,
      "overflow": null,
      "overflow_x": null,
      "overflow_y": null,
      "padding": null,
      "right": null,
      "top": null,
      "visibility": null,
      "width": null
     }
    },
    "3b8428dc2b6b4d179f401cf9a33b02cd": {
     "model_module": "@jupyter-widgets/base",
     "model_name": "LayoutModel",
     "state": {
      "_model_module": "@jupyter-widgets/base",
      "_model_module_version": "1.2.0",
      "_model_name": "LayoutModel",
      "_view_count": null,
      "_view_module": "@jupyter-widgets/base",
      "_view_module_version": "1.2.0",
      "_view_name": "LayoutView",
      "align_content": null,
      "align_items": null,
      "align_self": null,
      "border": null,
      "bottom": null,
      "display": null,
      "flex": null,
      "flex_flow": null,
      "grid_area": null,
      "grid_auto_columns": null,
      "grid_auto_flow": null,
      "grid_auto_rows": null,
      "grid_column": null,
      "grid_gap": null,
      "grid_row": null,
      "grid_template_areas": null,
      "grid_template_columns": null,
      "grid_template_rows": null,
      "height": null,
      "justify_content": null,
      "justify_items": null,
      "left": null,
      "margin": null,
      "max_height": null,
      "max_width": null,
      "min_height": null,
      "min_width": null,
      "object_fit": null,
      "object_position": null,
      "order": null,
      "overflow": null,
      "overflow_x": null,
      "overflow_y": null,
      "padding": null,
      "right": null,
      "top": null,
      "visibility": null,
      "width": null
     }
    },
    "421d23cea17c4e12a95aa8e2faafaa90": {
     "model_module": "@jupyter-widgets/controls",
     "model_name": "FloatProgressModel",
     "state": {
      "_dom_classes": [],
      "_model_module": "@jupyter-widgets/controls",
      "_model_module_version": "1.5.0",
      "_model_name": "FloatProgressModel",
      "_view_count": null,
      "_view_module": "@jupyter-widgets/controls",
      "_view_module_version": "1.5.0",
      "_view_name": "ProgressView",
      "bar_style": "danger",
      "description": "  0%",
      "description_tooltip": null,
      "layout": "IPY_MODEL_8b6282fda42942cab9cf465437aa5a4e",
      "max": 575,
      "min": 0,
      "orientation": "horizontal",
      "style": "IPY_MODEL_bb888f92366b481a8d5627e33fabb484",
      "value": 0
     }
    },
    "4e186c124198419d9b9bcd6598c2d336": {
     "model_module": "@jupyter-widgets/controls",
     "model_name": "ProgressStyleModel",
     "state": {
      "_model_module": "@jupyter-widgets/controls",
      "_model_module_version": "1.5.0",
      "_model_name": "ProgressStyleModel",
      "_view_count": null,
      "_view_module": "@jupyter-widgets/base",
      "_view_module_version": "1.2.0",
      "_view_name": "StyleView",
      "bar_color": null,
      "description_width": "initial"
     }
    },
    "5c1df7a266da45df957a1361058e56b7": {
     "model_module": "@jupyter-widgets/controls",
     "model_name": "FloatProgressModel",
     "state": {
      "_dom_classes": [],
      "_model_module": "@jupyter-widgets/controls",
      "_model_module_version": "1.5.0",
      "_model_name": "FloatProgressModel",
      "_view_count": null,
      "_view_module": "@jupyter-widgets/controls",
      "_view_module_version": "1.5.0",
      "_view_name": "ProgressView",
      "bar_style": "",
      "description": " 79%",
      "description_tooltip": null,
      "layout": "IPY_MODEL_3b8428dc2b6b4d179f401cf9a33b02cd",
      "max": 575,
      "min": 0,
      "orientation": "horizontal",
      "style": "IPY_MODEL_4e186c124198419d9b9bcd6598c2d336",
      "value": 454
     }
    },
    "6462503ae0b64636a49403e2309256f1": {
     "model_module": "@jupyter-widgets/controls",
     "model_name": "HTMLModel",
     "state": {
      "_dom_classes": [],
      "_model_module": "@jupyter-widgets/controls",
      "_model_module_version": "1.5.0",
      "_model_name": "HTMLModel",
      "_view_count": null,
      "_view_module": "@jupyter-widgets/controls",
      "_view_module_version": "1.5.0",
      "_view_name": "HTMLView",
      "description": "",
      "description_tooltip": null,
      "layout": "IPY_MODEL_fc2b2d0e97854089a96aa20bfe8ffa50",
      "placeholder": "​",
      "style": "IPY_MODEL_045e74e7b1264032866c8aead22eb2fe",
      "value": " 0/575 [00:28&lt;?, ?it/s]"
     }
    },
    "7524d7cc4f19476faac324db3d6cbe2e": {
     "model_module": "@jupyter-widgets/controls",
     "model_name": "HTMLModel",
     "state": {
      "_dom_classes": [],
      "_model_module": "@jupyter-widgets/controls",
      "_model_module_version": "1.5.0",
      "_model_name": "HTMLModel",
      "_view_count": null,
      "_view_module": "@jupyter-widgets/controls",
      "_view_module_version": "1.5.0",
      "_view_name": "HTMLView",
      "description": "",
      "description_tooltip": null,
      "layout": "IPY_MODEL_bf5cb1221d9244b2b834c92cff9ec0bc",
      "placeholder": "​",
      "style": "IPY_MODEL_a15f62a259c94f1199d19ca9ece00e9c",
      "value": " 454/575 [6:14:08&lt;1:38:25, 48.81s/it]"
     }
    },
    "8b6282fda42942cab9cf465437aa5a4e": {
     "model_module": "@jupyter-widgets/base",
     "model_name": "LayoutModel",
     "state": {
      "_model_module": "@jupyter-widgets/base",
      "_model_module_version": "1.2.0",
      "_model_name": "LayoutModel",
      "_view_count": null,
      "_view_module": "@jupyter-widgets/base",
      "_view_module_version": "1.2.0",
      "_view_name": "LayoutView",
      "align_content": null,
      "align_items": null,
      "align_self": null,
      "border": null,
      "bottom": null,
      "display": null,
      "flex": null,
      "flex_flow": null,
      "grid_area": null,
      "grid_auto_columns": null,
      "grid_auto_flow": null,
      "grid_auto_rows": null,
      "grid_column": null,
      "grid_gap": null,
      "grid_row": null,
      "grid_template_areas": null,
      "grid_template_columns": null,
      "grid_template_rows": null,
      "height": null,
      "justify_content": null,
      "justify_items": null,
      "left": null,
      "margin": null,
      "max_height": null,
      "max_width": null,
      "min_height": null,
      "min_width": null,
      "object_fit": null,
      "object_position": null,
      "order": null,
      "overflow": null,
      "overflow_x": null,
      "overflow_y": null,
      "padding": null,
      "right": null,
      "top": null,
      "visibility": null,
      "width": null
     }
    },
    "9bf652a1887b4701a3858950b81d264f": {
     "model_module": "@jupyter-widgets/controls",
     "model_name": "HBoxModel",
     "state": {
      "_dom_classes": [],
      "_model_module": "@jupyter-widgets/controls",
      "_model_module_version": "1.5.0",
      "_model_name": "HBoxModel",
      "_view_count": null,
      "_view_module": "@jupyter-widgets/controls",
      "_view_module_version": "1.5.0",
      "_view_name": "HBoxView",
      "box_style": "",
      "children": [
       "IPY_MODEL_5c1df7a266da45df957a1361058e56b7",
       "IPY_MODEL_7524d7cc4f19476faac324db3d6cbe2e"
      ],
      "layout": "IPY_MODEL_ce79748aae604878b077cd88cefaaf46"
     }
    },
    "a15f62a259c94f1199d19ca9ece00e9c": {
     "model_module": "@jupyter-widgets/controls",
     "model_name": "DescriptionStyleModel",
     "state": {
      "_model_module": "@jupyter-widgets/controls",
      "_model_module_version": "1.5.0",
      "_model_name": "DescriptionStyleModel",
      "_view_count": null,
      "_view_module": "@jupyter-widgets/base",
      "_view_module_version": "1.2.0",
      "_view_name": "StyleView",
      "description_width": ""
     }
    },
    "bb888f92366b481a8d5627e33fabb484": {
     "model_module": "@jupyter-widgets/controls",
     "model_name": "ProgressStyleModel",
     "state": {
      "_model_module": "@jupyter-widgets/controls",
      "_model_module_version": "1.5.0",
      "_model_name": "ProgressStyleModel",
      "_view_count": null,
      "_view_module": "@jupyter-widgets/base",
      "_view_module_version": "1.2.0",
      "_view_name": "StyleView",
      "bar_color": null,
      "description_width": "initial"
     }
    },
    "bf5cb1221d9244b2b834c92cff9ec0bc": {
     "model_module": "@jupyter-widgets/base",
     "model_name": "LayoutModel",
     "state": {
      "_model_module": "@jupyter-widgets/base",
      "_model_module_version": "1.2.0",
      "_model_name": "LayoutModel",
      "_view_count": null,
      "_view_module": "@jupyter-widgets/base",
      "_view_module_version": "1.2.0",
      "_view_name": "LayoutView",
      "align_content": null,
      "align_items": null,
      "align_self": null,
      "border": null,
      "bottom": null,
      "display": null,
      "flex": null,
      "flex_flow": null,
      "grid_area": null,
      "grid_auto_columns": null,
      "grid_auto_flow": null,
      "grid_auto_rows": null,
      "grid_column": null,
      "grid_gap": null,
      "grid_row": null,
      "grid_template_areas": null,
      "grid_template_columns": null,
      "grid_template_rows": null,
      "height": null,
      "justify_content": null,
      "justify_items": null,
      "left": null,
      "margin": null,
      "max_height": null,
      "max_width": null,
      "min_height": null,
      "min_width": null,
      "object_fit": null,
      "object_position": null,
      "order": null,
      "overflow": null,
      "overflow_x": null,
      "overflow_y": null,
      "padding": null,
      "right": null,
      "top": null,
      "visibility": null,
      "width": null
     }
    },
    "ce79748aae604878b077cd88cefaaf46": {
     "model_module": "@jupyter-widgets/base",
     "model_name": "LayoutModel",
     "state": {
      "_model_module": "@jupyter-widgets/base",
      "_model_module_version": "1.2.0",
      "_model_name": "LayoutModel",
      "_view_count": null,
      "_view_module": "@jupyter-widgets/base",
      "_view_module_version": "1.2.0",
      "_view_name": "LayoutView",
      "align_content": null,
      "align_items": null,
      "align_self": null,
      "border": null,
      "bottom": null,
      "display": null,
      "flex": null,
      "flex_flow": null,
      "grid_area": null,
      "grid_auto_columns": null,
      "grid_auto_flow": null,
      "grid_auto_rows": null,
      "grid_column": null,
      "grid_gap": null,
      "grid_row": null,
      "grid_template_areas": null,
      "grid_template_columns": null,
      "grid_template_rows": null,
      "height": null,
      "justify_content": null,
      "justify_items": null,
      "left": null,
      "margin": null,
      "max_height": null,
      "max_width": null,
      "min_height": null,
      "min_width": null,
      "object_fit": null,
      "object_position": null,
      "order": null,
      "overflow": null,
      "overflow_x": null,
      "overflow_y": null,
      "padding": null,
      "right": null,
      "top": null,
      "visibility": null,
      "width": null
     }
    },
    "ee560b69232e4f0ebab824ef0836a5e8": {
     "model_module": "@jupyter-widgets/controls",
     "model_name": "HBoxModel",
     "state": {
      "_dom_classes": [],
      "_model_module": "@jupyter-widgets/controls",
      "_model_module_version": "1.5.0",
      "_model_name": "HBoxModel",
      "_view_count": null,
      "_view_module": "@jupyter-widgets/controls",
      "_view_module_version": "1.5.0",
      "_view_name": "HBoxView",
      "box_style": "",
      "children": [
       "IPY_MODEL_421d23cea17c4e12a95aa8e2faafaa90",
       "IPY_MODEL_6462503ae0b64636a49403e2309256f1"
      ],
      "layout": "IPY_MODEL_145811d3eea549dbb5d95bf138869ae1"
     }
    },
    "fc2b2d0e97854089a96aa20bfe8ffa50": {
     "model_module": "@jupyter-widgets/base",
     "model_name": "LayoutModel",
     "state": {
      "_model_module": "@jupyter-widgets/base",
      "_model_module_version": "1.2.0",
      "_model_name": "LayoutModel",
      "_view_count": null,
      "_view_module": "@jupyter-widgets/base",
      "_view_module_version": "1.2.0",
      "_view_name": "LayoutView",
      "align_content": null,
      "align_items": null,
      "align_self": null,
      "border": null,
      "bottom": null,
      "display": null,
      "flex": null,
      "flex_flow": null,
      "grid_area": null,
      "grid_auto_columns": null,
      "grid_auto_flow": null,
      "grid_auto_rows": null,
      "grid_column": null,
      "grid_gap": null,
      "grid_row": null,
      "grid_template_areas": null,
      "grid_template_columns": null,
      "grid_template_rows": null,
      "height": null,
      "justify_content": null,
      "justify_items": null,
      "left": null,
      "margin": null,
      "max_height": null,
      "max_width": null,
      "min_height": null,
      "min_width": null,
      "object_fit": null,
      "object_position": null,
      "order": null,
      "overflow": null,
      "overflow_x": null,
      "overflow_y": null,
      "padding": null,
      "right": null,
      "top": null,
      "visibility": null,
      "width": null
     }
    }
   }
  }
 },
 "nbformat": 4,
 "nbformat_minor": 1
}
