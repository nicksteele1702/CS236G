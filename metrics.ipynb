{
 "cells": [
  {
   "cell_type": "code",
   "execution_count": 88,
   "metadata": {},
   "outputs": [],
   "source": [
    "import numpy as np\n",
    "import matplotlib.pyplot as plt"
   ]
  },
  {
   "cell_type": "code",
   "execution_count": 74,
   "metadata": {},
   "outputs": [],
   "source": [
    "returns =  np.random.uniform(low=-.05, high=.05, size=(10000,))"
   ]
  },
  {
   "cell_type": "code",
   "execution_count": 78,
   "metadata": {},
   "outputs": [
    {
     "name": "stdout",
     "output_type": "stream",
     "text": [
      "0.016895534045757173\n"
     ]
    }
   ],
   "source": [
    "#cumulative returns\n",
    "cum_returns = 1\n",
    "cum_ret = []\n",
    "for i in range (len(returns)):\n",
    "    cum_returns  = cum_returns * (1 + returns[i])\n",
    "    cum_ret.append(cum_returns)\n",
    "print (cum_returns)"
   ]
  },
  {
   "cell_type": "code",
   "execution_count": 76,
   "metadata": {},
   "outputs": [
    {
     "name": "stdout",
     "output_type": "stream",
     "text": [
      "0.0008363907457363893\n"
     ]
    }
   ],
   "source": [
    "#variance\n",
    "variance = np.var(returns)\n",
    "print (variance)"
   ]
  },
  {
   "cell_type": "code",
   "execution_count": 77,
   "metadata": {},
   "outputs": [
    {
     "name": "stdout",
     "output_type": "stream",
     "text": [
      "-33.9934356052525\n"
     ]
    }
   ],
   "source": [
    "#sharpe\n",
    "std = np.std(returns)\n",
    "rfr = 0\n",
    "sharpe = (cum_returns - 1 - rfr)/std\n",
    "print (sharpe)"
   ]
  },
  {
   "cell_type": "code",
   "execution_count": 91,
   "metadata": {},
   "outputs": [
    {
     "name": "stdout",
     "output_type": "stream",
     "text": [
      "-0.9973514277645037\n"
     ]
    },
    {
     "data": {
      "text/plain": [
       "[<matplotlib.lines.Line2D at 0x1273d7390>]"
      ]
     },
     "execution_count": 91,
     "metadata": {},
     "output_type": "execute_result"
    },
    {
     "data": {
      "image/png": "[encoded data removed]",
      "text/plain": [
       "<Figure size 432x288 with 1 Axes>"
      ]
     },
     "metadata": {
      "needs_background": "light"
     },
     "output_type": "display_data"
    }
   ],
   "source": [
    "#drawdown\n",
    "previous_peaks = np.maximum.accumulate(cum_ret)\n",
    "drawdown = (cum_ret-previous_peaks)/previous_peaks\n",
    "max_drawdown = np.ndarray.min(drawdown)\n",
    "print (max_drawdown)\n",
    "plt.plot(drawdown)\n"
   ]
  },
  {
   "cell_type": "code",
   "execution_count": 94,
   "metadata": {},
   "outputs": [],
   "source": [
    "#turnover\n",
    "turnover = 0\n",
    "preds = np.random.uniform(low=-.05, high=.05, size=(10000,))\n",
    "for pred in preds:\n",
    "    if (pred > 0):\n",
    "        turnover += 1\n",
    "turnover = turnover/len(preds)"
   ]
  },
  {
   "cell_type": "code",
   "execution_count": null,
   "metadata": {},
   "outputs": [],
   "source": []
  }
 ],
 "metadata": {
  "kernelspec": {
   "display_name": "Python 3",
   "language": "python",
   "name": "python3"
  },
  "language_info": {
   "codemirror_mode": {
    "name": "ipython",
    "version": 3
   },
   "file_extension": ".py",
   "mimetype": "text/x-python",
   "name": "python",
   "nbconvert_exporter": "python",
   "pygments_lexer": "ipython3",
   "version": "3.7.6"
  }
 },
 "nbformat": 4,
 "nbformat_minor": 4
}
